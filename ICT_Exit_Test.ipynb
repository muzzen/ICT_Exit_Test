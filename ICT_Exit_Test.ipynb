{
 "cells": [
  {
   "cell_type": "markdown",
   "id": "55a8083f-6143-471d-85ff-40cfcf3b99ca",
   "metadata": {},
   "source": [
    "# ICT EXIT TEST - CODING TEST"
   ]
  },
  {
   "cell_type": "code",
   "execution_count": 373,
   "id": "04dde827-a9a1-44b2-86b7-740f33bb6513",
   "metadata": {},
   "outputs": [],
   "source": [
    "import numpy as np\n",
    "import pandas as pd\n",
    "\n",
    "import matplotlib.pyplot as plt\n",
    "import seaborn as sns"
   ]
  },
  {
   "cell_type": "markdown",
   "id": "9d11c50c-728a-457f-855a-5b26f7079630",
   "metadata": {},
   "source": [
    "Import necessary libraries such as numpy, pandas, pyplot and seaborn"
   ]
  },
  {
   "cell_type": "markdown",
   "id": "302662d9-2d32-4609-9587-10bfd2ee9962",
   "metadata": {},
   "source": [
    "# 1. Load the dataset"
   ]
  },
  {
   "cell_type": "code",
   "execution_count": 374,
   "id": "6467fa90-eefa-40e7-b954-9b124e1f7891",
   "metadata": {},
   "outputs": [],
   "source": [
    "df = pd.read_csv('train_exit.csv')"
   ]
  },
  {
   "cell_type": "markdown",
   "id": "c30b909d-e1e8-457a-bd78-f93f6b528c8e",
   "metadata": {},
   "source": [
    "Load the given csv dataset into the jupyter environment."
   ]
  },
  {
   "cell_type": "markdown",
   "id": "4894ed0b-e3d7-447c-99c0-a8327853cfcd",
   "metadata": {},
   "source": [
    "# 2. Exploratory Data Analysis (EDA)"
   ]
  },
  {
   "cell_type": "code",
   "execution_count": 375,
   "id": "dee804c0-8b50-4d11-a19e-923b31515340",
   "metadata": {},
   "outputs": [
    {
     "data": {
      "text/plain": [
       "(13994, 30)"
      ]
     },
     "execution_count": 375,
     "metadata": {},
     "output_type": "execute_result"
    }
   ],
   "source": [
    "df.shape"
   ]
  },
  {
   "cell_type": "code",
   "execution_count": 376,
   "id": "7c01c292-e31e-40aa-b834-ac0771d2afbb",
   "metadata": {},
   "outputs": [
    {
     "data": {
      "text/plain": [
       "419820"
      ]
     },
     "execution_count": 376,
     "metadata": {},
     "output_type": "execute_result"
    }
   ],
   "source": [
    "df.size"
   ]
  },
  {
   "cell_type": "code",
   "execution_count": 377,
   "id": "76fb97af-c187-48fe-a636-55347c752a92",
   "metadata": {},
   "outputs": [
    {
     "data": {
      "text/html": [
       "<div>\n",
       "<style scoped>\n",
       "    .dataframe tbody tr th:only-of-type {\n",
       "        vertical-align: middle;\n",
       "    }\n",
       "\n",
       "    .dataframe tbody tr th {\n",
       "        vertical-align: top;\n",
       "    }\n",
       "\n",
       "    .dataframe thead th {\n",
       "        text-align: right;\n",
       "    }\n",
       "</style>\n",
       "<table border=\"1\" class=\"dataframe\">\n",
       "  <thead>\n",
       "    <tr style=\"text-align: right;\">\n",
       "      <th></th>\n",
       "      <th>player_id</th>\n",
       "      <th>name</th>\n",
       "      <th>age</th>\n",
       "      <th>gender</th>\n",
       "      <th>country</th>\n",
       "      <th>height</th>\n",
       "      <th>weight</th>\n",
       "      <th>ball_controlling_skills</th>\n",
       "      <th>body_reflexes</th>\n",
       "      <th>body_balance</th>\n",
       "      <th>...</th>\n",
       "      <th>strong_foot</th>\n",
       "      <th>behaviour_rating</th>\n",
       "      <th>matches_played</th>\n",
       "      <th>fitness_rating</th>\n",
       "      <th>trophies_won</th>\n",
       "      <th>dedication_level</th>\n",
       "      <th>coaching</th>\n",
       "      <th>years_of_experience</th>\n",
       "      <th>no_of_disqualifications</th>\n",
       "      <th>selection</th>\n",
       "    </tr>\n",
       "  </thead>\n",
       "  <tbody>\n",
       "    <tr>\n",
       "      <th>0</th>\n",
       "      <td>PLID_4964</td>\n",
       "      <td>Keva Horan</td>\n",
       "      <td>23</td>\n",
       "      <td>M</td>\n",
       "      <td>Ukraine</td>\n",
       "      <td>6'2</td>\n",
       "      <td>176lbs</td>\n",
       "      <td>77.0</td>\n",
       "      <td>58.0</td>\n",
       "      <td>47.0</td>\n",
       "      <td>...</td>\n",
       "      <td>Right</td>\n",
       "      <td>7.7</td>\n",
       "      <td>NaN</td>\n",
       "      <td>8.1</td>\n",
       "      <td>2.0</td>\n",
       "      <td>High</td>\n",
       "      <td>Talent Hunt</td>\n",
       "      <td>8.0</td>\n",
       "      <td>0.0</td>\n",
       "      <td>1</td>\n",
       "    </tr>\n",
       "    <tr>\n",
       "      <th>1</th>\n",
       "      <td>PLID_11234</td>\n",
       "      <td>Herma Tann</td>\n",
       "      <td>18</td>\n",
       "      <td>M</td>\n",
       "      <td>Russia</td>\n",
       "      <td>5'10</td>\n",
       "      <td>148lbs</td>\n",
       "      <td>54.0</td>\n",
       "      <td>69.0</td>\n",
       "      <td>70.0</td>\n",
       "      <td>...</td>\n",
       "      <td>Any</td>\n",
       "      <td>5.3</td>\n",
       "      <td>0.0</td>\n",
       "      <td>NaN</td>\n",
       "      <td>3.0</td>\n",
       "      <td>Medium</td>\n",
       "      <td>Source</td>\n",
       "      <td>3.0</td>\n",
       "      <td>0.0</td>\n",
       "      <td>0</td>\n",
       "    </tr>\n",
       "    <tr>\n",
       "      <th>2</th>\n",
       "      <td>PLID_19127</td>\n",
       "      <td>Eilene Kizer</td>\n",
       "      <td>16</td>\n",
       "      <td>F</td>\n",
       "      <td>Spain</td>\n",
       "      <td>6'2</td>\n",
       "      <td>172lbs</td>\n",
       "      <td>34.0</td>\n",
       "      <td>43.0</td>\n",
       "      <td>45.0</td>\n",
       "      <td>...</td>\n",
       "      <td>Left</td>\n",
       "      <td>4.7</td>\n",
       "      <td>0.0</td>\n",
       "      <td>6.6</td>\n",
       "      <td>5.0</td>\n",
       "      <td>Low</td>\n",
       "      <td>Academy</td>\n",
       "      <td>2.0</td>\n",
       "      <td>0.0</td>\n",
       "      <td>1</td>\n",
       "    </tr>\n",
       "  </tbody>\n",
       "</table>\n",
       "<p>3 rows × 30 columns</p>\n",
       "</div>"
      ],
      "text/plain": [
       "    player_id          name  age gender  country height  weight  \\\n",
       "0   PLID_4964    Keva Horan   23      M  Ukraine    6'2  176lbs   \n",
       "1  PLID_11234    Herma Tann   18      M   Russia   5'10  148lbs   \n",
       "2  PLID_19127  Eilene Kizer   16      F    Spain    6'2  172lbs   \n",
       "\n",
       "   ball_controlling_skills  body_reflexes  body_balance  ...  strong_foot  \\\n",
       "0                     77.0           58.0          47.0  ...        Right   \n",
       "1                     54.0           69.0          70.0  ...          Any   \n",
       "2                     34.0           43.0          45.0  ...         Left   \n",
       "\n",
       "   behaviour_rating  matches_played  fitness_rating  trophies_won  \\\n",
       "0               7.7             NaN             8.1           2.0   \n",
       "1               5.3             0.0             NaN           3.0   \n",
       "2               4.7             0.0             6.6           5.0   \n",
       "\n",
       "   dedication_level     coaching  years_of_experience  \\\n",
       "0              High  Talent Hunt                  8.0   \n",
       "1            Medium       Source                  3.0   \n",
       "2               Low      Academy                  2.0   \n",
       "\n",
       "   no_of_disqualifications  selection  \n",
       "0                      0.0          1  \n",
       "1                      0.0          0  \n",
       "2                      0.0          1  \n",
       "\n",
       "[3 rows x 30 columns]"
      ]
     },
     "execution_count": 377,
     "metadata": {},
     "output_type": "execute_result"
    }
   ],
   "source": [
    "df.head(3)"
   ]
  },
  {
   "cell_type": "code",
   "execution_count": 378,
   "id": "0dd967cc-f84c-4682-8bef-a18f772b1578",
   "metadata": {},
   "outputs": [
    {
     "name": "stdout",
     "output_type": "stream",
     "text": [
      "<class 'pandas.core.frame.DataFrame'>\n",
      "RangeIndex: 13994 entries, 0 to 13993\n",
      "Data columns (total 30 columns):\n",
      " #   Column                     Non-Null Count  Dtype  \n",
      "---  ------                     --------------  -----  \n",
      " 0   player_id                  13994 non-null  object \n",
      " 1   name                       13994 non-null  object \n",
      " 2   age                        13994 non-null  int64  \n",
      " 3   gender                     13975 non-null  object \n",
      " 4   country                    13994 non-null  object \n",
      " 5   height                     13994 non-null  object \n",
      " 6   weight                     13577 non-null  object \n",
      " 7   ball_controlling_skills    13581 non-null  float64\n",
      " 8   body_reflexes              13994 non-null  float64\n",
      " 9   body_balance               13994 non-null  float64\n",
      " 10  jumping_skills             13970 non-null  float64\n",
      " 11  penalties_conversion_rate  13964 non-null  float64\n",
      " 12  mental_strength            13966 non-null  float64\n",
      " 13  goalkeeping_skills         13994 non-null  float64\n",
      " 14  defending_skills           13994 non-null  float64\n",
      " 15  passing_skills             13994 non-null  float64\n",
      " 16  dribbling_skills           13994 non-null  float64\n",
      " 17  shot_accuracy              13422 non-null  float64\n",
      " 18  body_strength_stamina      13994 non-null  float64\n",
      " 19  max_running_speed          13994 non-null  float64\n",
      " 20  strong_foot                12161 non-null  object \n",
      " 21  behaviour_rating           13291 non-null  float64\n",
      " 22  matches_played             13328 non-null  float64\n",
      " 23  fitness_rating             13299 non-null  float64\n",
      " 24  trophies_won               13994 non-null  float64\n",
      " 25  dedication_level           13994 non-null  object \n",
      " 26  coaching                   13869 non-null  object \n",
      " 27  years_of_experience        13850 non-null  float64\n",
      " 28  no_of_disqualifications    13994 non-null  float64\n",
      " 29  selection                  13994 non-null  int64  \n",
      "dtypes: float64(19), int64(2), object(9)\n",
      "memory usage: 3.2+ MB\n"
     ]
    }
   ],
   "source": [
    "df.info()"
   ]
  },
  {
   "cell_type": "markdown",
   "id": "2ef409c6-25a8-4e12-b635-555ea5eef5bd",
   "metadata": {},
   "source": [
    "Initial analysis shows that the given dataset is related to soccer player and their statistics from various countries, \n",
    "and the intention of this data is to ease the selection process using machine model. "
   ]
  },
  {
   "cell_type": "code",
   "execution_count": 379,
   "id": "e573d06a-9bfe-4062-b0e1-9bc3dee336a3",
   "metadata": {},
   "outputs": [
    {
     "name": "stdout",
     "output_type": "stream",
     "text": [
      "Number of unique values in 'selection': 2\n",
      "Unique values in 'selection' column: 1 and 0\n"
     ]
    }
   ],
   "source": [
    "print(\"Number of unique values in 'selection':\",\n",
    "      df.selection.nunique())\n",
    "print(\"Unique values in 'selection' column:\",\n",
    "      df.selection.unique()[0],\"and\",\n",
    "      df.selection.unique()[1])"
   ]
  },
  {
   "cell_type": "code",
   "execution_count": 380,
   "id": "807efb68-fbd0-47f3-a32f-afc8100aea19",
   "metadata": {},
   "outputs": [
    {
     "data": {
      "text/plain": [
       "<Axes: xlabel='selection', ylabel='count'>"
      ]
     },
     "execution_count": 380,
     "metadata": {},
     "output_type": "execute_result"
    },
    {
     "data": {
      "image/png": "[encoded data removed]",
      "text/plain": [
       "<Figure size 640x480 with 1 Axes>"
      ]
     },
     "metadata": {},
     "output_type": "display_data"
    }
   ],
   "source": [
    "sns.countplot(df, x='selection')"
   ]
  },
  {
   "cell_type": "code",
   "execution_count": 381,
   "id": "27066a0a-7c48-43cc-b259-82b33c9ee7e9",
   "metadata": {},
   "outputs": [
    {
     "name": "stdout",
     "output_type": "stream",
     "text": [
      "selection\n",
      "1    7802\n",
      "0    6192\n",
      "Name: count, dtype: int64 \n",
      "\n",
      "selection (%)\n",
      "1 60.0\n",
      "0 44.0\n"
     ]
    }
   ],
   "source": [
    "selection_count = df['selection'].value_counts()\n",
    "total_count = df['selection'].size\n",
    "\n",
    "print(selection_count,\"\\n\")\n",
    "\n",
    "print(\"selection (%)\")\n",
    "print(\"1\",round((selection_count[1]/total_count),1)*100)\n",
    "print(\"0\",round((selection_count[0]/total_count),2)*100)"
   ]
  },
  {
   "cell_type": "markdown",
   "id": "8047e83a-af39-4eb9-9269-58b67a2d45eb",
   "metadata": {},
   "source": [
    "And the given dataset suitable for supervised classification machine modeling, and reserve **\"selection\"** as the target variable.\n",
    "Consider '0' as not selected and '1' as selected in labelling. And the label are nearly 50% of the whole dataset, that means it is a balanced dataset."
   ]
  },
  {
   "cell_type": "markdown",
   "id": "ceed9f4e-acd9-4cf8-b28a-9bf666039214",
   "metadata": {},
   "source": [
    "## 2.1 Statistical Analysis"
   ]
  },
  {
   "cell_type": "code",
   "execution_count": 382,
   "id": "5f63c50d-0282-4a12-8f1e-2a3b964fee09",
   "metadata": {},
   "outputs": [
    {
     "data": {
      "text/html": [
       "<div>\n",
       "<style scoped>\n",
       "    .dataframe tbody tr th:only-of-type {\n",
       "        vertical-align: middle;\n",
       "    }\n",
       "\n",
       "    .dataframe tbody tr th {\n",
       "        vertical-align: top;\n",
       "    }\n",
       "\n",
       "    .dataframe thead th {\n",
       "        text-align: right;\n",
       "    }\n",
       "</style>\n",
       "<table border=\"1\" class=\"dataframe\">\n",
       "  <thead>\n",
       "    <tr style=\"text-align: right;\">\n",
       "      <th></th>\n",
       "      <th>age</th>\n",
       "      <th>ball_controlling_skills</th>\n",
       "      <th>body_reflexes</th>\n",
       "      <th>body_balance</th>\n",
       "      <th>jumping_skills</th>\n",
       "      <th>penalties_conversion_rate</th>\n",
       "      <th>mental_strength</th>\n",
       "      <th>goalkeeping_skills</th>\n",
       "      <th>defending_skills</th>\n",
       "      <th>passing_skills</th>\n",
       "      <th>...</th>\n",
       "      <th>shot_accuracy</th>\n",
       "      <th>body_strength_stamina</th>\n",
       "      <th>max_running_speed</th>\n",
       "      <th>behaviour_rating</th>\n",
       "      <th>matches_played</th>\n",
       "      <th>fitness_rating</th>\n",
       "      <th>trophies_won</th>\n",
       "      <th>years_of_experience</th>\n",
       "      <th>no_of_disqualifications</th>\n",
       "      <th>selection</th>\n",
       "    </tr>\n",
       "  </thead>\n",
       "  <tbody>\n",
       "    <tr>\n",
       "      <th>count</th>\n",
       "      <td>13994.000000</td>\n",
       "      <td>13581.000000</td>\n",
       "      <td>13994.000000</td>\n",
       "      <td>13994.000000</td>\n",
       "      <td>13970.000000</td>\n",
       "      <td>13964.000000</td>\n",
       "      <td>13966.000000</td>\n",
       "      <td>13994.000000</td>\n",
       "      <td>13994.000000</td>\n",
       "      <td>13994.000000</td>\n",
       "      <td>...</td>\n",
       "      <td>13422.000000</td>\n",
       "      <td>13994.000000</td>\n",
       "      <td>13994.000000</td>\n",
       "      <td>13291.000000</td>\n",
       "      <td>13328.000000</td>\n",
       "      <td>13299.000000</td>\n",
       "      <td>13994.000000</td>\n",
       "      <td>13850.000000</td>\n",
       "      <td>13994.000000</td>\n",
       "      <td>13994.000000</td>\n",
       "    </tr>\n",
       "    <tr>\n",
       "      <th>mean</th>\n",
       "      <td>21.135844</td>\n",
       "      <td>56.043958</td>\n",
       "      <td>61.934329</td>\n",
       "      <td>62.753323</td>\n",
       "      <td>63.612026</td>\n",
       "      <td>48.495703</td>\n",
       "      <td>56.768366</td>\n",
       "      <td>16.474632</td>\n",
       "      <td>48.108118</td>\n",
       "      <td>52.935973</td>\n",
       "      <td>...</td>\n",
       "      <td>47.178140</td>\n",
       "      <td>62.652780</td>\n",
       "      <td>23.586094</td>\n",
       "      <td>5.822068</td>\n",
       "      <td>3.908463</td>\n",
       "      <td>6.405482</td>\n",
       "      <td>3.389095</td>\n",
       "      <td>6.434152</td>\n",
       "      <td>-4.740675</td>\n",
       "      <td>0.557525</td>\n",
       "    </tr>\n",
       "    <tr>\n",
       "      <th>std</th>\n",
       "      <td>5.162719</td>\n",
       "      <td>16.787353</td>\n",
       "      <td>14.931963</td>\n",
       "      <td>14.203638</td>\n",
       "      <td>11.938712</td>\n",
       "      <td>15.767506</td>\n",
       "      <td>11.977744</td>\n",
       "      <td>16.874551</td>\n",
       "      <td>16.821929</td>\n",
       "      <td>14.201782</td>\n",
       "      <td>...</td>\n",
       "      <td>15.803991</td>\n",
       "      <td>11.512526</td>\n",
       "      <td>5.194387</td>\n",
       "      <td>1.095702</td>\n",
       "      <td>13.583229</td>\n",
       "      <td>1.706983</td>\n",
       "      <td>1.709152</td>\n",
       "      <td>4.450954</td>\n",
       "      <td>72.023656</td>\n",
       "      <td>0.496698</td>\n",
       "    </tr>\n",
       "    <tr>\n",
       "      <th>min</th>\n",
       "      <td>16.000000</td>\n",
       "      <td>5.000000</td>\n",
       "      <td>12.000000</td>\n",
       "      <td>9.000000</td>\n",
       "      <td>14.000000</td>\n",
       "      <td>7.000000</td>\n",
       "      <td>9.000000</td>\n",
       "      <td>1.000000</td>\n",
       "      <td>9.000000</td>\n",
       "      <td>13.000000</td>\n",
       "      <td>...</td>\n",
       "      <td>7.000000</td>\n",
       "      <td>15.000000</td>\n",
       "      <td>5.400000</td>\n",
       "      <td>2.100000</td>\n",
       "      <td>0.000000</td>\n",
       "      <td>1.000000</td>\n",
       "      <td>0.000000</td>\n",
       "      <td>1.000000</td>\n",
       "      <td>-999.000000</td>\n",
       "      <td>0.000000</td>\n",
       "    </tr>\n",
       "    <tr>\n",
       "      <th>25%</th>\n",
       "      <td>17.000000</td>\n",
       "      <td>51.000000</td>\n",
       "      <td>54.000000</td>\n",
       "      <td>55.000000</td>\n",
       "      <td>57.000000</td>\n",
       "      <td>39.000000</td>\n",
       "      <td>49.000000</td>\n",
       "      <td>10.000000</td>\n",
       "      <td>36.000000</td>\n",
       "      <td>45.000000</td>\n",
       "      <td>...</td>\n",
       "      <td>38.000000</td>\n",
       "      <td>56.000000</td>\n",
       "      <td>21.100000</td>\n",
       "      <td>5.100000</td>\n",
       "      <td>0.000000</td>\n",
       "      <td>5.600000</td>\n",
       "      <td>2.000000</td>\n",
       "      <td>2.000000</td>\n",
       "      <td>0.000000</td>\n",
       "      <td>0.000000</td>\n",
       "    </tr>\n",
       "    <tr>\n",
       "      <th>50%</th>\n",
       "      <td>20.000000</td>\n",
       "      <td>61.000000</td>\n",
       "      <td>64.000000</td>\n",
       "      <td>65.000000</td>\n",
       "      <td>64.000000</td>\n",
       "      <td>49.000000</td>\n",
       "      <td>58.000000</td>\n",
       "      <td>11.000000</td>\n",
       "      <td>52.000000</td>\n",
       "      <td>56.000000</td>\n",
       "      <td>...</td>\n",
       "      <td>50.000000</td>\n",
       "      <td>64.000000</td>\n",
       "      <td>24.600000</td>\n",
       "      <td>5.900000</td>\n",
       "      <td>0.000000</td>\n",
       "      <td>6.800000</td>\n",
       "      <td>3.000000</td>\n",
       "      <td>6.000000</td>\n",
       "      <td>0.000000</td>\n",
       "      <td>1.000000</td>\n",
       "    </tr>\n",
       "    <tr>\n",
       "      <th>75%</th>\n",
       "      <td>24.000000</td>\n",
       "      <td>67.000000</td>\n",
       "      <td>72.000000</td>\n",
       "      <td>73.000000</td>\n",
       "      <td>72.000000</td>\n",
       "      <td>60.000000</td>\n",
       "      <td>65.000000</td>\n",
       "      <td>12.000000</td>\n",
       "      <td>61.000000</td>\n",
       "      <td>63.000000</td>\n",
       "      <td>...</td>\n",
       "      <td>59.000000</td>\n",
       "      <td>71.000000</td>\n",
       "      <td>27.100000</td>\n",
       "      <td>6.500000</td>\n",
       "      <td>1.000000</td>\n",
       "      <td>7.500000</td>\n",
       "      <td>5.000000</td>\n",
       "      <td>10.000000</td>\n",
       "      <td>0.000000</td>\n",
       "      <td>1.000000</td>\n",
       "    </tr>\n",
       "    <tr>\n",
       "      <th>max</th>\n",
       "      <td>61.000000</td>\n",
       "      <td>95.000000</td>\n",
       "      <td>96.000000</td>\n",
       "      <td>97.000000</td>\n",
       "      <td>95.000000</td>\n",
       "      <td>92.000000</td>\n",
       "      <td>92.000000</td>\n",
       "      <td>88.000000</td>\n",
       "      <td>86.000000</td>\n",
       "      <td>89.000000</td>\n",
       "      <td>...</td>\n",
       "      <td>86.000000</td>\n",
       "      <td>92.000000</td>\n",
       "      <td>35.000000</td>\n",
       "      <td>9.800000</td>\n",
       "      <td>151.000000</td>\n",
       "      <td>10.000000</td>\n",
       "      <td>9.000000</td>\n",
       "      <td>26.000000</td>\n",
       "      <td>25.000000</td>\n",
       "      <td>1.000000</td>\n",
       "    </tr>\n",
       "  </tbody>\n",
       "</table>\n",
       "<p>8 rows × 21 columns</p>\n",
       "</div>"
      ],
      "text/plain": [
       "                age  ball_controlling_skills  body_reflexes  body_balance  \\\n",
       "count  13994.000000             13581.000000   13994.000000  13994.000000   \n",
       "mean      21.135844                56.043958      61.934329     62.753323   \n",
       "std        5.162719                16.787353      14.931963     14.203638   \n",
       "min       16.000000                 5.000000      12.000000      9.000000   \n",
       "25%       17.000000                51.000000      54.000000     55.000000   \n",
       "50%       20.000000                61.000000      64.000000     65.000000   \n",
       "75%       24.000000                67.000000      72.000000     73.000000   \n",
       "max       61.000000                95.000000      96.000000     97.000000   \n",
       "\n",
       "       jumping_skills  penalties_conversion_rate  mental_strength  \\\n",
       "count    13970.000000               13964.000000     13966.000000   \n",
       "mean        63.612026                  48.495703        56.768366   \n",
       "std         11.938712                  15.767506        11.977744   \n",
       "min         14.000000                   7.000000         9.000000   \n",
       "25%         57.000000                  39.000000        49.000000   \n",
       "50%         64.000000                  49.000000        58.000000   \n",
       "75%         72.000000                  60.000000        65.000000   \n",
       "max         95.000000                  92.000000        92.000000   \n",
       "\n",
       "       goalkeeping_skills  defending_skills  passing_skills  ...  \\\n",
       "count        13994.000000      13994.000000    13994.000000  ...   \n",
       "mean            16.474632         48.108118       52.935973  ...   \n",
       "std             16.874551         16.821929       14.201782  ...   \n",
       "min              1.000000          9.000000       13.000000  ...   \n",
       "25%             10.000000         36.000000       45.000000  ...   \n",
       "50%             11.000000         52.000000       56.000000  ...   \n",
       "75%             12.000000         61.000000       63.000000  ...   \n",
       "max             88.000000         86.000000       89.000000  ...   \n",
       "\n",
       "       shot_accuracy  body_strength_stamina  max_running_speed  \\\n",
       "count   13422.000000           13994.000000       13994.000000   \n",
       "mean       47.178140              62.652780          23.586094   \n",
       "std        15.803991              11.512526           5.194387   \n",
       "min         7.000000              15.000000           5.400000   \n",
       "25%        38.000000              56.000000          21.100000   \n",
       "50%        50.000000              64.000000          24.600000   \n",
       "75%        59.000000              71.000000          27.100000   \n",
       "max        86.000000              92.000000          35.000000   \n",
       "\n",
       "       behaviour_rating  matches_played  fitness_rating  trophies_won  \\\n",
       "count      13291.000000    13328.000000    13299.000000  13994.000000   \n",
       "mean           5.822068        3.908463        6.405482      3.389095   \n",
       "std            1.095702       13.583229        1.706983      1.709152   \n",
       "min            2.100000        0.000000        1.000000      0.000000   \n",
       "25%            5.100000        0.000000        5.600000      2.000000   \n",
       "50%            5.900000        0.000000        6.800000      3.000000   \n",
       "75%            6.500000        1.000000        7.500000      5.000000   \n",
       "max            9.800000      151.000000       10.000000      9.000000   \n",
       "\n",
       "       years_of_experience  no_of_disqualifications     selection  \n",
       "count         13850.000000             13994.000000  13994.000000  \n",
       "mean              6.434152                -4.740675      0.557525  \n",
       "std               4.450954                72.023656      0.496698  \n",
       "min               1.000000              -999.000000      0.000000  \n",
       "25%               2.000000                 0.000000      0.000000  \n",
       "50%               6.000000                 0.000000      1.000000  \n",
       "75%              10.000000                 0.000000      1.000000  \n",
       "max              26.000000                25.000000      1.000000  \n",
       "\n",
       "[8 rows x 21 columns]"
      ]
     },
     "execution_count": 382,
     "metadata": {},
     "output_type": "execute_result"
    }
   ],
   "source": [
    "df.describe()"
   ]
  },
  {
   "cell_type": "code",
   "execution_count": 383,
   "id": "386dc4d6-a595-432c-b77d-0bc5e8184753",
   "metadata": {},
   "outputs": [
    {
     "data": {
      "text/html": [
       "<div>\n",
       "<style scoped>\n",
       "    .dataframe tbody tr th:only-of-type {\n",
       "        vertical-align: middle;\n",
       "    }\n",
       "\n",
       "    .dataframe tbody tr th {\n",
       "        vertical-align: top;\n",
       "    }\n",
       "\n",
       "    .dataframe thead th {\n",
       "        text-align: right;\n",
       "    }\n",
       "</style>\n",
       "<table border=\"1\" class=\"dataframe\">\n",
       "  <thead>\n",
       "    <tr style=\"text-align: right;\">\n",
       "      <th></th>\n",
       "      <th>player_id</th>\n",
       "      <th>name</th>\n",
       "      <th>gender</th>\n",
       "      <th>country</th>\n",
       "      <th>height</th>\n",
       "      <th>weight</th>\n",
       "      <th>strong_foot</th>\n",
       "      <th>dedication_level</th>\n",
       "      <th>coaching</th>\n",
       "    </tr>\n",
       "  </thead>\n",
       "  <tbody>\n",
       "    <tr>\n",
       "      <th>count</th>\n",
       "      <td>13994</td>\n",
       "      <td>13994</td>\n",
       "      <td>13975</td>\n",
       "      <td>13994</td>\n",
       "      <td>13994</td>\n",
       "      <td>13577</td>\n",
       "      <td>12161</td>\n",
       "      <td>13994</td>\n",
       "      <td>13869</td>\n",
       "    </tr>\n",
       "    <tr>\n",
       "      <th>unique</th>\n",
       "      <td>13994</td>\n",
       "      <td>13994</td>\n",
       "      <td>2</td>\n",
       "      <td>163</td>\n",
       "      <td>31</td>\n",
       "      <td>88</td>\n",
       "      <td>3</td>\n",
       "      <td>3</td>\n",
       "      <td>4</td>\n",
       "    </tr>\n",
       "    <tr>\n",
       "      <th>top</th>\n",
       "      <td>PLID_4964</td>\n",
       "      <td>Keva Horan</td>\n",
       "      <td>M</td>\n",
       "      <td>England</td>\n",
       "      <td>6'0</td>\n",
       "      <td>165lbs</td>\n",
       "      <td>Right</td>\n",
       "      <td>Medium</td>\n",
       "      <td>Academy</td>\n",
       "    </tr>\n",
       "    <tr>\n",
       "      <th>freq</th>\n",
       "      <td>1</td>\n",
       "      <td>1</td>\n",
       "      <td>6992</td>\n",
       "      <td>1157</td>\n",
       "      <td>2251</td>\n",
       "      <td>1106</td>\n",
       "      <td>8359</td>\n",
       "      <td>9704</td>\n",
       "      <td>9390</td>\n",
       "    </tr>\n",
       "  </tbody>\n",
       "</table>\n",
       "</div>"
      ],
      "text/plain": [
       "        player_id        name gender  country height  weight strong_foot  \\\n",
       "count       13994       13994  13975    13994  13994   13577       12161   \n",
       "unique      13994       13994      2      163     31      88           3   \n",
       "top     PLID_4964  Keva Horan      M  England    6'0  165lbs       Right   \n",
       "freq            1           1   6992     1157   2251    1106        8359   \n",
       "\n",
       "       dedication_level coaching  \n",
       "count             13994    13869  \n",
       "unique                3        4  \n",
       "top              Medium  Academy  \n",
       "freq               9704     9390  "
      ]
     },
     "execution_count": 383,
     "metadata": {},
     "output_type": "execute_result"
    }
   ],
   "source": [
    "df.describe(include=\"O\")"
   ]
  },
  {
   "cell_type": "markdown",
   "id": "8d5ed5bb-6580-4ac8-86a0-49c328e0f8d3",
   "metadata": {},
   "source": [
    "Since *player_id* and *name* features are not much relevent, then we can drop these columns from our dataset."
   ]
  },
  {
   "cell_type": "code",
   "execution_count": 384,
   "id": "b99839e9-f357-4b6b-9323-3ac184cdcda0",
   "metadata": {},
   "outputs": [],
   "source": [
    "df.drop(['player_id','name'],axis=1, inplace= True)"
   ]
  },
  {
   "cell_type": "markdown",
   "id": "955e77bf-ee3f-4b29-800b-1307891f71e4",
   "metadata": {},
   "source": [
    "## 2.2 Duplicates and Null values"
   ]
  },
  {
   "cell_type": "code",
   "execution_count": 385,
   "id": "662f4199-30b0-45b9-9fc4-5fbb6de76252",
   "metadata": {},
   "outputs": [
    {
     "name": "stdout",
     "output_type": "stream",
     "text": [
      "Duplicate values: 0\n"
     ]
    }
   ],
   "source": [
    "print(\"Duplicate values:\",df.duplicated().sum())"
   ]
  },
  {
   "cell_type": "markdown",
   "id": "00e9c927-98a0-482f-80e7-67577cb5196a",
   "metadata": {},
   "source": [
    "The dataset does not have any duplicate values"
   ]
  },
  {
   "cell_type": "code",
   "execution_count": 386,
   "id": "f9815603-027d-4f91-90f7-54570ee35989",
   "metadata": {},
   "outputs": [
    {
     "data": {
      "text/plain": [
       "age                             0\n",
       "gender                         19\n",
       "country                         0\n",
       "height                          0\n",
       "weight                        417\n",
       "ball_controlling_skills       413\n",
       "body_reflexes                   0\n",
       "body_balance                    0\n",
       "jumping_skills                 24\n",
       "penalties_conversion_rate      30\n",
       "mental_strength                28\n",
       "goalkeeping_skills              0\n",
       "defending_skills                0\n",
       "passing_skills                  0\n",
       "dribbling_skills                0\n",
       "shot_accuracy                 572\n",
       "body_strength_stamina           0\n",
       "max_running_speed               0\n",
       "strong_foot                  1833\n",
       "behaviour_rating              703\n",
       "matches_played                666\n",
       "fitness_rating                695\n",
       "trophies_won                    0\n",
       "dedication_level                0\n",
       "coaching                      125\n",
       "years_of_experience           144\n",
       "no_of_disqualifications         0\n",
       "selection                       0\n",
       "dtype: int64"
      ]
     },
     "execution_count": 386,
     "metadata": {},
     "output_type": "execute_result"
    }
   ],
   "source": [
    "df.isna().sum()"
   ]
  },
  {
   "cell_type": "code",
   "execution_count": 387,
   "id": "2ad26f02-7faa-42e3-982b-a80c5915183e",
   "metadata": {},
   "outputs": [
    {
     "data": {
      "text/plain": [
       "count     13975\n",
       "unique        2\n",
       "top           M\n",
       "freq       6992\n",
       "Name: gender, dtype: object"
      ]
     },
     "execution_count": 387,
     "metadata": {},
     "output_type": "execute_result"
    }
   ],
   "source": [
    "df.gender.describe()"
   ]
  },
  {
   "cell_type": "code",
   "execution_count": 388,
   "id": "37cd984a-45c9-4fc4-bb2b-927072b541aa",
   "metadata": {},
   "outputs": [],
   "source": [
    "df['gender'].fillna('M', inplace=True)"
   ]
  },
  {
   "cell_type": "markdown",
   "id": "3578b4f0-e507-4300-8e3e-f1f7f7d23fee",
   "metadata": {},
   "source": [
    "Since soccer is male dominated sport, we can fill na value with frequently repeating value."
   ]
  },
  {
   "cell_type": "code",
   "execution_count": 389,
   "id": "1c14976d-674a-4d92-bfc1-72c73e0f1c86",
   "metadata": {},
   "outputs": [
    {
     "data": {
      "text/plain": [
       "count      13577\n",
       "unique        88\n",
       "top       165lbs\n",
       "freq        1106\n",
       "Name: weight, dtype: object"
      ]
     },
     "execution_count": 389,
     "metadata": {},
     "output_type": "execute_result"
    }
   ],
   "source": [
    "df.weight.describe()"
   ]
  },
  {
   "cell_type": "code",
   "execution_count": 390,
   "id": "f1445a08-a217-42df-baaa-0a771830fd19",
   "metadata": {},
   "outputs": [],
   "source": [
    "df['weight'].fillna(\"fifill\", inplace=True)"
   ]
  },
  {
   "cell_type": "markdown",
   "id": "c1312ed7-a8db-4e41-9441-c6d80b11b0fb",
   "metadata": {},
   "source": [
    "weight can be ambigouse, so it is better to use \"forward filling\" method"
   ]
  },
  {
   "cell_type": "code",
   "execution_count": 391,
   "id": "a78c0825-d6d4-4ee1-8e3c-b71c07bfbe90",
   "metadata": {},
   "outputs": [
    {
     "data": {
      "text/plain": [
       "count       13869\n",
       "unique          4\n",
       "top       Academy\n",
       "freq         9390\n",
       "Name: coaching, dtype: object"
      ]
     },
     "execution_count": 391,
     "metadata": {},
     "output_type": "execute_result"
    }
   ],
   "source": [
    "df.coaching.describe()"
   ]
  },
  {
   "cell_type": "code",
   "execution_count": 392,
   "id": "4c16e90b-de8f-4654-a17f-b0081b03e504",
   "metadata": {},
   "outputs": [],
   "source": [
    "df['coaching'].fillna('Academy', inplace=True)"
   ]
  },
  {
   "cell_type": "markdown",
   "id": "6b201ed9-0a53-463f-bfae-4273b219271d",
   "metadata": {},
   "source": [
    "The 'coaching' feature also filled with most frequent one \"Academy\""
   ]
  },
  {
   "cell_type": "code",
   "execution_count": 393,
   "id": "0dcd7629-1200-4beb-a052-c563c1c76d06",
   "metadata": {},
   "outputs": [
    {
     "data": {
      "text/html": [
       "<div>\n",
       "<style scoped>\n",
       "    .dataframe tbody tr th:only-of-type {\n",
       "        vertical-align: middle;\n",
       "    }\n",
       "\n",
       "    .dataframe tbody tr th {\n",
       "        vertical-align: top;\n",
       "    }\n",
       "\n",
       "    .dataframe thead th {\n",
       "        text-align: right;\n",
       "    }\n",
       "</style>\n",
       "<table border=\"1\" class=\"dataframe\">\n",
       "  <thead>\n",
       "    <tr style=\"text-align: right;\">\n",
       "      <th></th>\n",
       "      <th>ball_controlling_skills</th>\n",
       "      <th>jumping_skills</th>\n",
       "      <th>penalties_conversion_rate</th>\n",
       "      <th>mental_strength</th>\n",
       "      <th>shot_accuracy</th>\n",
       "      <th>behaviour_rating</th>\n",
       "      <th>matches_played</th>\n",
       "      <th>fitness_rating</th>\n",
       "      <th>years_of_experience</th>\n",
       "    </tr>\n",
       "  </thead>\n",
       "  <tbody>\n",
       "    <tr>\n",
       "      <th>count</th>\n",
       "      <td>13581.000000</td>\n",
       "      <td>13970.000000</td>\n",
       "      <td>13964.000000</td>\n",
       "      <td>13966.000000</td>\n",
       "      <td>13422.000000</td>\n",
       "      <td>13291.000000</td>\n",
       "      <td>13328.000000</td>\n",
       "      <td>13299.000000</td>\n",
       "      <td>13850.000000</td>\n",
       "    </tr>\n",
       "    <tr>\n",
       "      <th>mean</th>\n",
       "      <td>56.043958</td>\n",
       "      <td>63.612026</td>\n",
       "      <td>48.495703</td>\n",
       "      <td>56.768366</td>\n",
       "      <td>47.178140</td>\n",
       "      <td>5.822068</td>\n",
       "      <td>3.908463</td>\n",
       "      <td>6.405482</td>\n",
       "      <td>6.434152</td>\n",
       "    </tr>\n",
       "    <tr>\n",
       "      <th>std</th>\n",
       "      <td>16.787353</td>\n",
       "      <td>11.938712</td>\n",
       "      <td>15.767506</td>\n",
       "      <td>11.977744</td>\n",
       "      <td>15.803991</td>\n",
       "      <td>1.095702</td>\n",
       "      <td>13.583229</td>\n",
       "      <td>1.706983</td>\n",
       "      <td>4.450954</td>\n",
       "    </tr>\n",
       "    <tr>\n",
       "      <th>min</th>\n",
       "      <td>5.000000</td>\n",
       "      <td>14.000000</td>\n",
       "      <td>7.000000</td>\n",
       "      <td>9.000000</td>\n",
       "      <td>7.000000</td>\n",
       "      <td>2.100000</td>\n",
       "      <td>0.000000</td>\n",
       "      <td>1.000000</td>\n",
       "      <td>1.000000</td>\n",
       "    </tr>\n",
       "    <tr>\n",
       "      <th>25%</th>\n",
       "      <td>51.000000</td>\n",
       "      <td>57.000000</td>\n",
       "      <td>39.000000</td>\n",
       "      <td>49.000000</td>\n",
       "      <td>38.000000</td>\n",
       "      <td>5.100000</td>\n",
       "      <td>0.000000</td>\n",
       "      <td>5.600000</td>\n",
       "      <td>2.000000</td>\n",
       "    </tr>\n",
       "    <tr>\n",
       "      <th>50%</th>\n",
       "      <td>61.000000</td>\n",
       "      <td>64.000000</td>\n",
       "      <td>49.000000</td>\n",
       "      <td>58.000000</td>\n",
       "      <td>50.000000</td>\n",
       "      <td>5.900000</td>\n",
       "      <td>0.000000</td>\n",
       "      <td>6.800000</td>\n",
       "      <td>6.000000</td>\n",
       "    </tr>\n",
       "    <tr>\n",
       "      <th>75%</th>\n",
       "      <td>67.000000</td>\n",
       "      <td>72.000000</td>\n",
       "      <td>60.000000</td>\n",
       "      <td>65.000000</td>\n",
       "      <td>59.000000</td>\n",
       "      <td>6.500000</td>\n",
       "      <td>1.000000</td>\n",
       "      <td>7.500000</td>\n",
       "      <td>10.000000</td>\n",
       "    </tr>\n",
       "    <tr>\n",
       "      <th>max</th>\n",
       "      <td>95.000000</td>\n",
       "      <td>95.000000</td>\n",
       "      <td>92.000000</td>\n",
       "      <td>92.000000</td>\n",
       "      <td>86.000000</td>\n",
       "      <td>9.800000</td>\n",
       "      <td>151.000000</td>\n",
       "      <td>10.000000</td>\n",
       "      <td>26.000000</td>\n",
       "    </tr>\n",
       "  </tbody>\n",
       "</table>\n",
       "</div>"
      ],
      "text/plain": [
       "       ball_controlling_skills  jumping_skills  penalties_conversion_rate  \\\n",
       "count             13581.000000    13970.000000               13964.000000   \n",
       "mean                 56.043958       63.612026                  48.495703   \n",
       "std                  16.787353       11.938712                  15.767506   \n",
       "min                   5.000000       14.000000                   7.000000   \n",
       "25%                  51.000000       57.000000                  39.000000   \n",
       "50%                  61.000000       64.000000                  49.000000   \n",
       "75%                  67.000000       72.000000                  60.000000   \n",
       "max                  95.000000       95.000000                  92.000000   \n",
       "\n",
       "       mental_strength  shot_accuracy  behaviour_rating  matches_played  \\\n",
       "count     13966.000000   13422.000000      13291.000000    13328.000000   \n",
       "mean         56.768366      47.178140          5.822068        3.908463   \n",
       "std          11.977744      15.803991          1.095702       13.583229   \n",
       "min           9.000000       7.000000          2.100000        0.000000   \n",
       "25%          49.000000      38.000000          5.100000        0.000000   \n",
       "50%          58.000000      50.000000          5.900000        0.000000   \n",
       "75%          65.000000      59.000000          6.500000        1.000000   \n",
       "max          92.000000      86.000000          9.800000      151.000000   \n",
       "\n",
       "       fitness_rating  years_of_experience  \n",
       "count    13299.000000         13850.000000  \n",
       "mean         6.405482             6.434152  \n",
       "std          1.706983             4.450954  \n",
       "min          1.000000             1.000000  \n",
       "25%          5.600000             2.000000  \n",
       "50%          6.800000             6.000000  \n",
       "75%          7.500000            10.000000  \n",
       "max         10.000000            26.000000  "
      ]
     },
     "execution_count": 393,
     "metadata": {},
     "output_type": "execute_result"
    }
   ],
   "source": [
    "col = ['ball_controlling_skills',\n",
    "      'jumping_skills',\n",
    "       'penalties_conversion_rate',\n",
    "       'mental_strength',\n",
    "       'shot_accuracy',\n",
    "       'behaviour_rating',\n",
    "       'matches_played',\n",
    "       'fitness_rating',\n",
    "       'years_of_experience'   \n",
    "]\n",
    "\n",
    "df[col].describe()"
   ]
  },
  {
   "cell_type": "code",
   "execution_count": 394,
   "id": "a36b374f-96d8-4ad4-9222-ff02acaa91fe",
   "metadata": {},
   "outputs": [],
   "source": [
    "for feature in col:\n",
    "    df[feature].fillna(df[feature].mean(), inplace=True)"
   ]
  },
  {
   "cell_type": "markdown",
   "id": "97464595-98b4-4b86-bceb-1a49ed32f113",
   "metadata": {},
   "source": [
    "All the numerical values filled with mean values of the feature."
   ]
  },
  {
   "cell_type": "code",
   "execution_count": 395,
   "id": "c68f389f-9d89-4fc0-9500-ce40208bc96e",
   "metadata": {},
   "outputs": [
    {
     "data": {
      "text/plain": [
       "count     12161\n",
       "unique        3\n",
       "top       Right\n",
       "freq       8359\n",
       "Name: strong_foot, dtype: object"
      ]
     },
     "execution_count": 395,
     "metadata": {},
     "output_type": "execute_result"
    }
   ],
   "source": [
    "df.strong_foot.describe()"
   ]
  },
  {
   "cell_type": "code",
   "execution_count": 396,
   "id": "e6d30bf0-456c-4afc-a612-1c113b3965ab",
   "metadata": {},
   "outputs": [],
   "source": [
    "df['strong_foot'].fillna(df.strong_foot.mode()[0], inplace=True)"
   ]
  },
  {
   "cell_type": "markdown",
   "id": "ffb12cff-5c0a-4d09-8fe7-0e129832b702",
   "metadata": {},
   "source": [
    "The strong foot filled with frequently repeating one, since 'Right' footed is very common in soccer."
   ]
  },
  {
   "cell_type": "code",
   "execution_count": 397,
   "id": "c4644695-3fc4-45d2-8e0b-622bac3d01b3",
   "metadata": {},
   "outputs": [
    {
     "data": {
      "text/plain": [
       "age                          0\n",
       "gender                       0\n",
       "country                      0\n",
       "height                       0\n",
       "weight                       0\n",
       "ball_controlling_skills      0\n",
       "body_reflexes                0\n",
       "body_balance                 0\n",
       "jumping_skills               0\n",
       "penalties_conversion_rate    0\n",
       "mental_strength              0\n",
       "goalkeeping_skills           0\n",
       "defending_skills             0\n",
       "passing_skills               0\n",
       "dribbling_skills             0\n",
       "shot_accuracy                0\n",
       "body_strength_stamina        0\n",
       "max_running_speed            0\n",
       "strong_foot                  0\n",
       "behaviour_rating             0\n",
       "matches_played               0\n",
       "fitness_rating               0\n",
       "trophies_won                 0\n",
       "dedication_level             0\n",
       "coaching                     0\n",
       "years_of_experience          0\n",
       "no_of_disqualifications      0\n",
       "selection                    0\n",
       "dtype: int64"
      ]
     },
     "execution_count": 397,
     "metadata": {},
     "output_type": "execute_result"
    }
   ],
   "source": [
    "df.isna().sum()"
   ]
  },
  {
   "cell_type": "markdown",
   "id": "922c46fb-253e-4f16-9ed4-2e6a737b47c8",
   "metadata": {},
   "source": [
    "# 3. Checking for Outliers"
   ]
  },
  {
   "cell_type": "code",
   "execution_count": 398,
   "id": "07013b3b-df84-4753-8181-7e01ab75849d",
   "metadata": {},
   "outputs": [
    {
     "data": {
      "text/plain": [
       "['age',\n",
       " 'ball_controlling_skills',\n",
       " 'body_reflexes',\n",
       " 'body_balance',\n",
       " 'jumping_skills',\n",
       " 'penalties_conversion_rate',\n",
       " 'mental_strength',\n",
       " 'goalkeeping_skills',\n",
       " 'defending_skills',\n",
       " 'passing_skills',\n",
       " 'dribbling_skills',\n",
       " 'shot_accuracy',\n",
       " 'body_strength_stamina',\n",
       " 'max_running_speed',\n",
       " 'behaviour_rating',\n",
       " 'matches_played',\n",
       " 'fitness_rating',\n",
       " 'trophies_won',\n",
       " 'years_of_experience',\n",
       " 'no_of_disqualifications']"
      ]
     },
     "execution_count": 398,
     "metadata": {},
     "output_type": "execute_result"
    }
   ],
   "source": [
    "col = list(df.select_dtypes(np.number).columns)\n",
    "col.pop()\n",
    "col"
   ]
  },
  {
   "cell_type": "code",
   "execution_count": 399,
   "id": "53497897-30fc-4bb4-8bfb-401aa321c2c1",
   "metadata": {},
   "outputs": [
    {
     "data": {
      "text/plain": [
       "Text(0.5, 1.0, 'Outliers of Numnber of Disqualifications')"
      ]
     },
     "execution_count": 399,
     "metadata": {},
     "output_type": "execute_result"
    },
    {
     "data": {
      "image/png": "[encoded data removed]",
      "text/plain": [
       "<Figure size 640x480 with 1 Axes>"
      ]
     },
     "metadata": {},
     "output_type": "display_data"
    }
   ],
   "source": [
    "sns.boxplot(df[col[19]])\n",
    "plt.title(\"Outliers of Numnber of Disqualifications\")"
   ]
  },
  {
   "cell_type": "code",
   "execution_count": 400,
   "id": "e11945cb-a3b4-4d37-97a3-bc2f825eaf41",
   "metadata": {},
   "outputs": [
    {
     "data": {
      "text/plain": [
       "Text(0.5, 1.0, 'Outliers of Matches Played')"
      ]
     },
     "execution_count": 400,
     "metadata": {},
     "output_type": "execute_result"
    },
    {
     "data": {
      "image/png": "[encoded data removed]",
      "text/plain": [
       "<Figure size 640x480 with 1 Axes>"
      ]
     },
     "metadata": {},
     "output_type": "display_data"
    }
   ],
   "source": [
    "sns.boxplot(df[col[15]])\n",
    "plt.title(\"Outliers of Matches Played\")"
   ]
  },
  {
   "cell_type": "markdown",
   "id": "ab237bd3-f11b-425c-a35b-cee75a15cc34",
   "metadata": {},
   "source": [
    "Considering outiers both in \"Matches Played\" and \"Number of Qualification are Higher\""
   ]
  },
  {
   "cell_type": "code",
   "execution_count": 401,
   "id": "9557fefc-9636-433e-80a2-91c1bb07fcfe",
   "metadata": {},
   "outputs": [],
   "source": [
    "def minmax(data,column):\n",
    "  Q1 = data[column].quantile(0.25)\n",
    "  Q3 = data[column].quantile(0.75)\n",
    "\n",
    "  IQR = Q3 -Q1\n",
    "\n",
    "  Min = Q1-1.5*IQR\n",
    "  Max = Q3+1.5*IQR\n",
    "  return Min,Max"
   ]
  },
  {
   "cell_type": "code",
   "execution_count": 402,
   "id": "4b9bda52-adcb-4827-aea3-eba5a2b5acfe",
   "metadata": {},
   "outputs": [],
   "source": [
    "Min,Max = minmax(df,'no_of_disqualifications')\n"
   ]
  },
  {
   "cell_type": "code",
   "execution_count": 403,
   "id": "b8fddaab-717c-42e7-a6da-82c6a63c8a09",
   "metadata": {},
   "outputs": [],
   "source": [
    "outliers1 = np.where(((df['no_of_disqualifications']<Min)|(df['no_of_disqualifications']>Max)))[0]"
   ]
  },
  {
   "cell_type": "code",
   "execution_count": 404,
   "id": "51901cf4-9ba1-4b76-9d99-222c9560c190",
   "metadata": {},
   "outputs": [],
   "source": [
    "Min,Max = minmax(df,'matches_played')"
   ]
  },
  {
   "cell_type": "code",
   "execution_count": 405,
   "id": "f343506c-e1d0-4997-868b-f39ba060d54c",
   "metadata": {},
   "outputs": [],
   "source": [
    "outliers2 = np.where(((df['matches_played']<Min)|(df['matches_played']>Max)))[0]"
   ]
  },
  {
   "cell_type": "code",
   "execution_count": 406,
   "id": "51365e7e-2943-431a-8fb4-7e8ffccab017",
   "metadata": {},
   "outputs": [],
   "source": [
    "outliers2 = [i for i in outliers2 if i not in outliers1]"
   ]
  },
  {
   "cell_type": "code",
   "execution_count": 407,
   "id": "a6036f4a-b6bc-4483-8979-2a0b0deaccb4",
   "metadata": {},
   "outputs": [],
   "source": [
    "df.drop(index=outliers1, inplace=True)"
   ]
  },
  {
   "cell_type": "code",
   "execution_count": 408,
   "id": "0deb975e-76b6-4b01-98b7-dbaf62382960",
   "metadata": {},
   "outputs": [],
   "source": [
    "df.drop(index=outliers2, inplace=True)"
   ]
  },
  {
   "cell_type": "markdown",
   "id": "19cfb33c-588a-4296-95dd-a6265f756c83",
   "metadata": {},
   "source": [
    "# Encoding object data types"
   ]
  },
  {
   "cell_type": "code",
   "execution_count": 409,
   "id": "8b1ecc61-738e-4487-9c17-2810498c2e52",
   "metadata": {},
   "outputs": [
    {
     "name": "stdout",
     "output_type": "stream",
     "text": [
      "<class 'pandas.core.frame.DataFrame'>\n",
      "Index: 12209 entries, 1 to 13993\n",
      "Data columns (total 28 columns):\n",
      " #   Column                     Non-Null Count  Dtype  \n",
      "---  ------                     --------------  -----  \n",
      " 0   age                        12209 non-null  int64  \n",
      " 1   gender                     12209 non-null  object \n",
      " 2   country                    12209 non-null  object \n",
      " 3   height                     12209 non-null  object \n",
      " 4   weight                     12209 non-null  object \n",
      " 5   ball_controlling_skills    12209 non-null  float64\n",
      " 6   body_reflexes              12209 non-null  float64\n",
      " 7   body_balance               12209 non-null  float64\n",
      " 8   jumping_skills             12209 non-null  float64\n",
      " 9   penalties_conversion_rate  12209 non-null  float64\n",
      " 10  mental_strength            12209 non-null  float64\n",
      " 11  goalkeeping_skills         12209 non-null  float64\n",
      " 12  defending_skills           12209 non-null  float64\n",
      " 13  passing_skills             12209 non-null  float64\n",
      " 14  dribbling_skills           12209 non-null  float64\n",
      " 15  shot_accuracy              12209 non-null  float64\n",
      " 16  body_strength_stamina      12209 non-null  float64\n",
      " 17  max_running_speed          12209 non-null  float64\n",
      " 18  strong_foot                12209 non-null  object \n",
      " 19  behaviour_rating           12209 non-null  float64\n",
      " 20  matches_played             12209 non-null  float64\n",
      " 21  fitness_rating             12209 non-null  float64\n",
      " 22  trophies_won               12209 non-null  float64\n",
      " 23  dedication_level           12209 non-null  object \n",
      " 24  coaching                   12209 non-null  object \n",
      " 25  years_of_experience        12209 non-null  float64\n",
      " 26  no_of_disqualifications    12209 non-null  float64\n",
      " 27  selection                  12209 non-null  int64  \n",
      "dtypes: float64(19), int64(2), object(7)\n",
      "memory usage: 2.7+ MB\n"
     ]
    }
   ],
   "source": [
    "df.info()"
   ]
  },
  {
   "cell_type": "code",
   "execution_count": 410,
   "id": "0aab117b-5939-450c-afd6-97c4d227d18a",
   "metadata": {},
   "outputs": [
    {
     "data": {
      "text/plain": [
       "['gender',\n",
       " 'country',\n",
       " 'height',\n",
       " 'weight',\n",
       " 'strong_foot',\n",
       " 'dedication_level',\n",
       " 'coaching']"
      ]
     },
     "execution_count": 410,
     "metadata": {},
     "output_type": "execute_result"
    }
   ],
   "source": [
    "col= list(df.select_dtypes('object').columns)\n",
    "col"
   ]
  },
  {
   "cell_type": "markdown",
   "id": "c4e4326d-19a3-457e-b604-3047de887f14",
   "metadata": {},
   "source": [
    "Getting columns with 'object' data types"
   ]
  },
  {
   "cell_type": "code",
   "execution_count": 414,
   "id": "f177b409-cf9b-4437-ba82-26035e5c4e67",
   "metadata": {},
   "outputs": [],
   "source": [
    "# import encoding library\n",
    "from sklearn.preprocessing import LabelEncoder"
   ]
  },
  {
   "cell_type": "code",
   "execution_count": 419,
   "id": "0a765860-1c7d-43ef-9f69-468e62db7d57",
   "metadata": {},
   "outputs": [],
   "source": [
    "le = OrdinalEncoder()"
   ]
  },
  {
   "cell_type": "code",
   "execution_count": 420,
   "id": "013fe842-1015-4596-90cd-49d052d6f984",
   "metadata": {},
   "outputs": [],
   "source": [
    "for i in col:\n",
    "    df[col] = le.fit_transform(df[col])"
   ]
  },
  {
   "cell_type": "code",
   "execution_count": 421,
   "id": "a6ca7a2f-bfea-4e62-998e-3fb17d013683",
   "metadata": {},
   "outputs": [
    {
     "data": {
      "text/html": [
       "<div>\n",
       "<style scoped>\n",
       "    .dataframe tbody tr th:only-of-type {\n",
       "        vertical-align: middle;\n",
       "    }\n",
       "\n",
       "    .dataframe tbody tr th {\n",
       "        vertical-align: top;\n",
       "    }\n",
       "\n",
       "    .dataframe thead th {\n",
       "        text-align: right;\n",
       "    }\n",
       "</style>\n",
       "<table border=\"1\" class=\"dataframe\">\n",
       "  <thead>\n",
       "    <tr style=\"text-align: right;\">\n",
       "      <th></th>\n",
       "      <th>age</th>\n",
       "      <th>gender</th>\n",
       "      <th>country</th>\n",
       "      <th>height</th>\n",
       "      <th>weight</th>\n",
       "      <th>ball_controlling_skills</th>\n",
       "      <th>body_reflexes</th>\n",
       "      <th>body_balance</th>\n",
       "      <th>jumping_skills</th>\n",
       "      <th>penalties_conversion_rate</th>\n",
       "      <th>...</th>\n",
       "      <th>strong_foot</th>\n",
       "      <th>behaviour_rating</th>\n",
       "      <th>matches_played</th>\n",
       "      <th>fitness_rating</th>\n",
       "      <th>trophies_won</th>\n",
       "      <th>dedication_level</th>\n",
       "      <th>coaching</th>\n",
       "      <th>years_of_experience</th>\n",
       "      <th>no_of_disqualifications</th>\n",
       "      <th>selection</th>\n",
       "    </tr>\n",
       "  </thead>\n",
       "  <tbody>\n",
       "    <tr>\n",
       "      <th>1</th>\n",
       "      <td>18</td>\n",
       "      <td>1.0</td>\n",
       "      <td>122.0</td>\n",
       "      <td>5.0</td>\n",
       "      <td>24.0</td>\n",
       "      <td>54.0</td>\n",
       "      <td>69.0</td>\n",
       "      <td>70.0</td>\n",
       "      <td>62.0</td>\n",
       "      <td>53.0</td>\n",
       "      <td>...</td>\n",
       "      <td>0.0</td>\n",
       "      <td>5.300000</td>\n",
       "      <td>0.0</td>\n",
       "      <td>6.405482</td>\n",
       "      <td>3.0</td>\n",
       "      <td>2.0</td>\n",
       "      <td>1.0</td>\n",
       "      <td>3.0</td>\n",
       "      <td>0.0</td>\n",
       "      <td>0</td>\n",
       "    </tr>\n",
       "    <tr>\n",
       "      <th>2</th>\n",
       "      <td>16</td>\n",
       "      <td>0.0</td>\n",
       "      <td>133.0</td>\n",
       "      <td>18.0</td>\n",
       "      <td>44.0</td>\n",
       "      <td>34.0</td>\n",
       "      <td>43.0</td>\n",
       "      <td>45.0</td>\n",
       "      <td>69.0</td>\n",
       "      <td>49.0</td>\n",
       "      <td>...</td>\n",
       "      <td>1.0</td>\n",
       "      <td>4.700000</td>\n",
       "      <td>0.0</td>\n",
       "      <td>6.600000</td>\n",
       "      <td>5.0</td>\n",
       "      <td>1.0</td>\n",
       "      <td>0.0</td>\n",
       "      <td>2.0</td>\n",
       "      <td>0.0</td>\n",
       "      <td>1</td>\n",
       "    </tr>\n",
       "    <tr>\n",
       "      <th>4</th>\n",
       "      <td>19</td>\n",
       "      <td>0.0</td>\n",
       "      <td>5.0</td>\n",
       "      <td>13.0</td>\n",
       "      <td>32.0</td>\n",
       "      <td>47.0</td>\n",
       "      <td>61.0</td>\n",
       "      <td>74.0</td>\n",
       "      <td>57.0</td>\n",
       "      <td>49.0</td>\n",
       "      <td>...</td>\n",
       "      <td>2.0</td>\n",
       "      <td>5.822068</td>\n",
       "      <td>0.0</td>\n",
       "      <td>5.700000</td>\n",
       "      <td>5.0</td>\n",
       "      <td>2.0</td>\n",
       "      <td>0.0</td>\n",
       "      <td>4.0</td>\n",
       "      <td>0.0</td>\n",
       "      <td>0</td>\n",
       "    </tr>\n",
       "    <tr>\n",
       "      <th>5</th>\n",
       "      <td>21</td>\n",
       "      <td>1.0</td>\n",
       "      <td>62.0</td>\n",
       "      <td>15.0</td>\n",
       "      <td>46.0</td>\n",
       "      <td>63.0</td>\n",
       "      <td>69.0</td>\n",
       "      <td>65.0</td>\n",
       "      <td>65.0</td>\n",
       "      <td>55.0</td>\n",
       "      <td>...</td>\n",
       "      <td>2.0</td>\n",
       "      <td>6.300000</td>\n",
       "      <td>0.0</td>\n",
       "      <td>6.900000</td>\n",
       "      <td>3.0</td>\n",
       "      <td>2.0</td>\n",
       "      <td>0.0</td>\n",
       "      <td>7.0</td>\n",
       "      <td>0.0</td>\n",
       "      <td>0</td>\n",
       "    </tr>\n",
       "    <tr>\n",
       "      <th>6</th>\n",
       "      <td>24</td>\n",
       "      <td>0.0</td>\n",
       "      <td>28.0</td>\n",
       "      <td>5.0</td>\n",
       "      <td>24.0</td>\n",
       "      <td>64.0</td>\n",
       "      <td>68.0</td>\n",
       "      <td>71.0</td>\n",
       "      <td>53.0</td>\n",
       "      <td>42.0</td>\n",
       "      <td>...</td>\n",
       "      <td>1.0</td>\n",
       "      <td>6.900000</td>\n",
       "      <td>1.0</td>\n",
       "      <td>7.300000</td>\n",
       "      <td>2.0</td>\n",
       "      <td>0.0</td>\n",
       "      <td>0.0</td>\n",
       "      <td>10.0</td>\n",
       "      <td>0.0</td>\n",
       "      <td>0</td>\n",
       "    </tr>\n",
       "    <tr>\n",
       "      <th>...</th>\n",
       "      <td>...</td>\n",
       "      <td>...</td>\n",
       "      <td>...</td>\n",
       "      <td>...</td>\n",
       "      <td>...</td>\n",
       "      <td>...</td>\n",
       "      <td>...</td>\n",
       "      <td>...</td>\n",
       "      <td>...</td>\n",
       "      <td>...</td>\n",
       "      <td>...</td>\n",
       "      <td>...</td>\n",
       "      <td>...</td>\n",
       "      <td>...</td>\n",
       "      <td>...</td>\n",
       "      <td>...</td>\n",
       "      <td>...</td>\n",
       "      <td>...</td>\n",
       "      <td>...</td>\n",
       "      <td>...</td>\n",
       "      <td>...</td>\n",
       "    </tr>\n",
       "    <tr>\n",
       "      <th>13987</th>\n",
       "      <td>25</td>\n",
       "      <td>0.0</td>\n",
       "      <td>29.0</td>\n",
       "      <td>5.0</td>\n",
       "      <td>31.0</td>\n",
       "      <td>70.0</td>\n",
       "      <td>79.0</td>\n",
       "      <td>66.0</td>\n",
       "      <td>71.0</td>\n",
       "      <td>76.0</td>\n",
       "      <td>...</td>\n",
       "      <td>2.0</td>\n",
       "      <td>6.400000</td>\n",
       "      <td>1.0</td>\n",
       "      <td>8.200000</td>\n",
       "      <td>3.0</td>\n",
       "      <td>0.0</td>\n",
       "      <td>1.0</td>\n",
       "      <td>10.0</td>\n",
       "      <td>0.0</td>\n",
       "      <td>1</td>\n",
       "    </tr>\n",
       "    <tr>\n",
       "      <th>13990</th>\n",
       "      <td>18</td>\n",
       "      <td>0.0</td>\n",
       "      <td>44.0</td>\n",
       "      <td>5.0</td>\n",
       "      <td>38.0</td>\n",
       "      <td>53.0</td>\n",
       "      <td>68.0</td>\n",
       "      <td>59.0</td>\n",
       "      <td>73.0</td>\n",
       "      <td>24.0</td>\n",
       "      <td>...</td>\n",
       "      <td>2.0</td>\n",
       "      <td>5.300000</td>\n",
       "      <td>0.0</td>\n",
       "      <td>5.600000</td>\n",
       "      <td>3.0</td>\n",
       "      <td>2.0</td>\n",
       "      <td>0.0</td>\n",
       "      <td>4.0</td>\n",
       "      <td>0.0</td>\n",
       "      <td>0</td>\n",
       "    </tr>\n",
       "    <tr>\n",
       "      <th>13991</th>\n",
       "      <td>17</td>\n",
       "      <td>1.0</td>\n",
       "      <td>77.0</td>\n",
       "      <td>15.0</td>\n",
       "      <td>44.0</td>\n",
       "      <td>56.0</td>\n",
       "      <td>73.0</td>\n",
       "      <td>62.0</td>\n",
       "      <td>50.0</td>\n",
       "      <td>47.0</td>\n",
       "      <td>...</td>\n",
       "      <td>1.0</td>\n",
       "      <td>5.700000</td>\n",
       "      <td>0.0</td>\n",
       "      <td>7.700000</td>\n",
       "      <td>3.0</td>\n",
       "      <td>1.0</td>\n",
       "      <td>2.0</td>\n",
       "      <td>2.0</td>\n",
       "      <td>0.0</td>\n",
       "      <td>1</td>\n",
       "    </tr>\n",
       "    <tr>\n",
       "      <th>13992</th>\n",
       "      <td>20</td>\n",
       "      <td>0.0</td>\n",
       "      <td>151.0</td>\n",
       "      <td>5.0</td>\n",
       "      <td>26.0</td>\n",
       "      <td>71.0</td>\n",
       "      <td>69.0</td>\n",
       "      <td>70.0</td>\n",
       "      <td>51.0</td>\n",
       "      <td>56.0</td>\n",
       "      <td>...</td>\n",
       "      <td>1.0</td>\n",
       "      <td>6.800000</td>\n",
       "      <td>1.0</td>\n",
       "      <td>5.800000</td>\n",
       "      <td>4.0</td>\n",
       "      <td>2.0</td>\n",
       "      <td>0.0</td>\n",
       "      <td>6.0</td>\n",
       "      <td>0.0</td>\n",
       "      <td>1</td>\n",
       "    </tr>\n",
       "    <tr>\n",
       "      <th>13993</th>\n",
       "      <td>16</td>\n",
       "      <td>0.0</td>\n",
       "      <td>27.0</td>\n",
       "      <td>13.0</td>\n",
       "      <td>33.0</td>\n",
       "      <td>53.0</td>\n",
       "      <td>59.0</td>\n",
       "      <td>67.0</td>\n",
       "      <td>54.0</td>\n",
       "      <td>62.0</td>\n",
       "      <td>...</td>\n",
       "      <td>2.0</td>\n",
       "      <td>4.200000</td>\n",
       "      <td>0.0</td>\n",
       "      <td>6.700000</td>\n",
       "      <td>0.0</td>\n",
       "      <td>2.0</td>\n",
       "      <td>1.0</td>\n",
       "      <td>1.0</td>\n",
       "      <td>0.0</td>\n",
       "      <td>0</td>\n",
       "    </tr>\n",
       "  </tbody>\n",
       "</table>\n",
       "<p>12209 rows × 28 columns</p>\n",
       "</div>"
      ],
      "text/plain": [
       "       age  gender  country  height  weight  ball_controlling_skills  \\\n",
       "1       18     1.0    122.0     5.0    24.0                     54.0   \n",
       "2       16     0.0    133.0    18.0    44.0                     34.0   \n",
       "4       19     0.0      5.0    13.0    32.0                     47.0   \n",
       "5       21     1.0     62.0    15.0    46.0                     63.0   \n",
       "6       24     0.0     28.0     5.0    24.0                     64.0   \n",
       "...    ...     ...      ...     ...     ...                      ...   \n",
       "13987   25     0.0     29.0     5.0    31.0                     70.0   \n",
       "13990   18     0.0     44.0     5.0    38.0                     53.0   \n",
       "13991   17     1.0     77.0    15.0    44.0                     56.0   \n",
       "13992   20     0.0    151.0     5.0    26.0                     71.0   \n",
       "13993   16     0.0     27.0    13.0    33.0                     53.0   \n",
       "\n",
       "       body_reflexes  body_balance  jumping_skills  penalties_conversion_rate  \\\n",
       "1               69.0          70.0            62.0                       53.0   \n",
       "2               43.0          45.0            69.0                       49.0   \n",
       "4               61.0          74.0            57.0                       49.0   \n",
       "5               69.0          65.0            65.0                       55.0   \n",
       "6               68.0          71.0            53.0                       42.0   \n",
       "...              ...           ...             ...                        ...   \n",
       "13987           79.0          66.0            71.0                       76.0   \n",
       "13990           68.0          59.0            73.0                       24.0   \n",
       "13991           73.0          62.0            50.0                       47.0   \n",
       "13992           69.0          70.0            51.0                       56.0   \n",
       "13993           59.0          67.0            54.0                       62.0   \n",
       "\n",
       "       ...  strong_foot  behaviour_rating  matches_played  fitness_rating  \\\n",
       "1      ...          0.0          5.300000             0.0        6.405482   \n",
       "2      ...          1.0          4.700000             0.0        6.600000   \n",
       "4      ...          2.0          5.822068             0.0        5.700000   \n",
       "5      ...          2.0          6.300000             0.0        6.900000   \n",
       "6      ...          1.0          6.900000             1.0        7.300000   \n",
       "...    ...          ...               ...             ...             ...   \n",
       "13987  ...          2.0          6.400000             1.0        8.200000   \n",
       "13990  ...          2.0          5.300000             0.0        5.600000   \n",
       "13991  ...          1.0          5.700000             0.0        7.700000   \n",
       "13992  ...          1.0          6.800000             1.0        5.800000   \n",
       "13993  ...          2.0          4.200000             0.0        6.700000   \n",
       "\n",
       "       trophies_won  dedication_level  coaching  years_of_experience  \\\n",
       "1               3.0               2.0       1.0                  3.0   \n",
       "2               5.0               1.0       0.0                  2.0   \n",
       "4               5.0               2.0       0.0                  4.0   \n",
       "5               3.0               2.0       0.0                  7.0   \n",
       "6               2.0               0.0       0.0                 10.0   \n",
       "...             ...               ...       ...                  ...   \n",
       "13987           3.0               0.0       1.0                 10.0   \n",
       "13990           3.0               2.0       0.0                  4.0   \n",
       "13991           3.0               1.0       2.0                  2.0   \n",
       "13992           4.0               2.0       0.0                  6.0   \n",
       "13993           0.0               2.0       1.0                  1.0   \n",
       "\n",
       "       no_of_disqualifications  selection  \n",
       "1                          0.0          0  \n",
       "2                          0.0          1  \n",
       "4                          0.0          0  \n",
       "5                          0.0          0  \n",
       "6                          0.0          0  \n",
       "...                        ...        ...  \n",
       "13987                      0.0          1  \n",
       "13990                      0.0          0  \n",
       "13991                      0.0          1  \n",
       "13992                      0.0          1  \n",
       "13993                      0.0          0  \n",
       "\n",
       "[12209 rows x 28 columns]"
      ]
     },
     "execution_count": 421,
     "metadata": {},
     "output_type": "execute_result"
    }
   ],
   "source": [
    "df"
   ]
  },
  {
   "cell_type": "markdown",
   "id": "add506aa-2f50-4cdd-9d50-c761a4275079",
   "metadata": {},
   "source": [
    "# Machine Modeling"
   ]
  },
  {
   "cell_type": "markdown",
   "id": "891c7b93-a5c0-4a92-af44-92a97b3101af",
   "metadata": {},
   "source": [
    "Split our dataset in train and test dat"
   ]
  },
  {
   "cell_type": "code",
   "execution_count": 424,
   "id": "e667c32b-e6af-4677-b1a4-613929d41d52",
   "metadata": {},
   "outputs": [],
   "source": [
    "from sklearn.model_selection import train_test_split"
   ]
  },
  {
   "cell_type": "code",
   "execution_count": 430,
   "id": "ee95dbcd-fb84-4f88-9c09-b6129aa6468b",
   "metadata": {},
   "outputs": [],
   "source": [
    "X = df.iloc[:,:-1]\n",
    "Y = df.selection"
   ]
  },
  {
   "cell_type": "code",
   "execution_count": 432,
   "id": "1a79544d-7dc6-4206-9e98-892c13689333",
   "metadata": {},
   "outputs": [],
   "source": [
    "train_x, test_x, train_y, test_y = train_test_split(X,Y, test_size=0.25)"
   ]
  },
  {
   "cell_type": "markdown",
   "id": "33d060f3-22d4-4cd5-ba05-119b254ff341",
   "metadata": {},
   "source": [
    "As for the convinnient **Random Forest Classifier** is suitable one"
   ]
  },
  {
   "cell_type": "code",
   "execution_count": 444,
   "id": "c7489f74-4b7d-4d2f-a2fe-d6985f050d68",
   "metadata": {},
   "outputs": [],
   "source": [
    "from sklearn.ensemble import RandomForestClassifier"
   ]
  },
  {
   "cell_type": "code",
   "execution_count": 443,
   "id": "3c1aca96-50ef-4662-9a5a-dd4a9c6143cd",
   "metadata": {},
   "outputs": [],
   "source": [
    "from sklearn.model_selection import GridSearchCV"
   ]
  },
  {
   "cell_type": "code",
   "execution_count": 452,
   "id": "2946aa52-866e-462b-b7f5-9cc694fcb182",
   "metadata": {},
   "outputs": [],
   "source": [
    "param_grid = {\n",
    "    'n_estimators': [100, 200, 300],\n",
    "    'max_depth': [None, 5, 10],\n",
    "    'min_samples_split': [2, 5, 10],\n",
    "    'min_samples_leaf': [1, 2, 4],\n",
    "    'random_state':[10, 20, 30, 40, 50, 60, 70, 80, 90, 100]\n",
    "}"
   ]
  },
  {
   "cell_type": "code",
   "execution_count": 455,
   "id": "b3583de2-65a8-42ad-b318-011536d06bd1",
   "metadata": {},
   "outputs": [],
   "source": [
    "grid_search = GridSearchCV( estimator=rf, param_grid= param_grid, cv=5)"
   ]
  },
  {
   "cell_type": "code",
   "execution_count": 471,
   "id": "4eaaf0d1-667a-4604-8503-21becfeffec9",
   "metadata": {},
   "outputs": [],
   "source": [
    "# grid_search.fit(train_x, train_y)"
   ]
  },
  {
   "cell_type": "code",
   "execution_count": 470,
   "id": "efde2ea3-1204-4e45-bfd2-a26418204c82",
   "metadata": {},
   "outputs": [],
   "source": [
    "# grid_search.best_params_"
   ]
  },
  {
   "cell_type": "code",
   "execution_count": 507,
   "id": "d46d5cbd-a586-4912-9f18-6007b9f55351",
   "metadata": {},
   "outputs": [],
   "source": [
    "rf = RandomForestClassifier(random_state=100, n_estimators=100,\n",
    "                           criterion=\"gini\")"
   ]
  },
  {
   "cell_type": "code",
   "execution_count": 520,
   "id": "857a196d-f6fd-461d-a28e-2109b03d451e",
   "metadata": {},
   "outputs": [
    {
     "data": {
      "text/html": [
       "<style>#sk-container-id-4 {color: black;}#sk-container-id-4 pre{padding: 0;}#sk-container-id-4 div.sk-toggleable {background-color: white;}#sk-container-id-4 label.sk-toggleable__label {cursor: pointer;display: block;width: 100%;margin-bottom: 0;padding: 0.3em;box-sizing: border-box;text-align: center;}#sk-container-id-4 label.sk-toggleable__label-arrow:before {content: \"▸\";float: left;margin-right: 0.25em;color: #696969;}#sk-container-id-4 label.sk-toggleable__label-arrow:hover:before {color: black;}#sk-container-id-4 div.sk-estimator:hover label.sk-toggleable__label-arrow:before {color: black;}#sk-container-id-4 div.sk-toggleable__content {max-height: 0;max-width: 0;overflow: hidden;text-align: left;background-color: #f0f8ff;}#sk-container-id-4 div.sk-toggleable__content pre {margin: 0.2em;color: black;border-radius: 0.25em;background-color: #f0f8ff;}#sk-container-id-4 input.sk-toggleable__control:checked~div.sk-toggleable__content {max-height: 200px;max-width: 100%;overflow: auto;}#sk-container-id-4 input.sk-toggleable__control:checked~label.sk-toggleable__label-arrow:before {content: \"▾\";}#sk-container-id-4 div.sk-estimator input.sk-toggleable__control:checked~label.sk-toggleable__label {background-color: #d4ebff;}#sk-container-id-4 div.sk-label input.sk-toggleable__control:checked~label.sk-toggleable__label {background-color: #d4ebff;}#sk-container-id-4 input.sk-hidden--visually {border: 0;clip: rect(1px 1px 1px 1px);clip: rect(1px, 1px, 1px, 1px);height: 1px;margin: -1px;overflow: hidden;padding: 0;position: absolute;width: 1px;}#sk-container-id-4 div.sk-estimator {font-family: monospace;background-color: #f0f8ff;border: 1px dotted black;border-radius: 0.25em;box-sizing: border-box;margin-bottom: 0.5em;}#sk-container-id-4 div.sk-estimator:hover {background-color: #d4ebff;}#sk-container-id-4 div.sk-parallel-item::after {content: \"\";width: 100%;border-bottom: 1px solid gray;flex-grow: 1;}#sk-container-id-4 div.sk-label:hover label.sk-toggleable__label {background-color: #d4ebff;}#sk-container-id-4 div.sk-serial::before {content: \"\";position: absolute;border-left: 1px solid gray;box-sizing: border-box;top: 0;bottom: 0;left: 50%;z-index: 0;}#sk-container-id-4 div.sk-serial {display: flex;flex-direction: column;align-items: center;background-color: white;padding-right: 0.2em;padding-left: 0.2em;position: relative;}#sk-container-id-4 div.sk-item {position: relative;z-index: 1;}#sk-container-id-4 div.sk-parallel {display: flex;align-items: stretch;justify-content: center;background-color: white;position: relative;}#sk-container-id-4 div.sk-item::before, #sk-container-id-4 div.sk-parallel-item::before {content: \"\";position: absolute;border-left: 1px solid gray;box-sizing: border-box;top: 0;bottom: 0;left: 50%;z-index: -1;}#sk-container-id-4 div.sk-parallel-item {display: flex;flex-direction: column;z-index: 1;position: relative;background-color: white;}#sk-container-id-4 div.sk-parallel-item:first-child::after {align-self: flex-end;width: 50%;}#sk-container-id-4 div.sk-parallel-item:last-child::after {align-self: flex-start;width: 50%;}#sk-container-id-4 div.sk-parallel-item:only-child::after {width: 0;}#sk-container-id-4 div.sk-dashed-wrapped {border: 1px dashed gray;margin: 0 0.4em 0.5em 0.4em;box-sizing: border-box;padding-bottom: 0.4em;background-color: white;}#sk-container-id-4 div.sk-label label {font-family: monospace;font-weight: bold;display: inline-block;line-height: 1.2em;}#sk-container-id-4 div.sk-label-container {text-align: center;}#sk-container-id-4 div.sk-container {/* jupyter's `normalize.less` sets `[hidden] { display: none; }` but bootstrap.min.css set `[hidden] { display: none !important; }` so we also need the `!important` here to be able to override the default hidden behavior on the sphinx rendered scikit-learn.org. See: https://github.com/scikit-learn/scikit-learn/issues/21755 */display: inline-block !important;position: relative;}#sk-container-id-4 div.sk-text-repr-fallback {display: none;}</style><div id=\"sk-container-id-4\" class=\"sk-top-container\"><div class=\"sk-text-repr-fallback\"><pre>RandomForestClassifier(random_state=100)</pre><b>In a Jupyter environment, please rerun this cell to show the HTML representation or trust the notebook. <br />On GitHub, the HTML representation is unable to render, please try loading this page with nbviewer.org.</b></div><div class=\"sk-container\" hidden><div class=\"sk-item\"><div class=\"sk-estimator sk-toggleable\"><input class=\"sk-toggleable__control sk-hidden--visually\" id=\"sk-estimator-id-4\" type=\"checkbox\" checked><label for=\"sk-estimator-id-4\" class=\"sk-toggleable__label sk-toggleable__label-arrow\">RandomForestClassifier</label><div class=\"sk-toggleable__content\"><pre>RandomForestClassifier(random_state=100)</pre></div></div></div></div></div>"
      ],
      "text/plain": [
       "RandomForestClassifier(random_state=100)"
      ]
     },
     "execution_count": 520,
     "metadata": {},
     "output_type": "execute_result"
    }
   ],
   "source": [
    "rf.fit(train_x,train_y)"
   ]
  },
  {
   "cell_type": "code",
   "execution_count": 521,
   "id": "14252e21-b6f4-4c85-8f07-03655ece12cf",
   "metadata": {},
   "outputs": [],
   "source": [
    "predict = rf.predict(test_x)"
   ]
  },
  {
   "cell_type": "code",
   "execution_count": 502,
   "id": "06370ff8-8050-44b3-a7d8-03f29a5dd2e3",
   "metadata": {},
   "outputs": [],
   "source": [
    "from sklearn.metrics import accuracy_score"
   ]
  },
  {
   "cell_type": "code",
   "execution_count": 522,
   "id": "7b37cd01-1467-4bd5-8b99-eeeef5204bcf",
   "metadata": {},
   "outputs": [
    {
     "name": "stdout",
     "output_type": "stream",
     "text": [
      "Model Score is  85.0\n"
     ]
    }
   ],
   "source": [
    "score = accuracy_score(predict, test_y)\n",
    "print(\"Model Score is \", round(score,2) *100)"
   ]
  }
 ],
 "metadata": {
  "kernelspec": {
   "display_name": "Python 3 (ipykernel)",
   "language": "python",
   "name": "python3"
  },
  "language_info": {
   "codemirror_mode": {
    "name": "ipython",
    "version": 3
   },
   "file_extension": ".py",
   "mimetype": "text/x-python",
   "name": "python",
   "nbconvert_exporter": "python",
   "pygments_lexer": "ipython3",
   "version": "3.8.10"
  }
 },
 "nbformat": 4,
 "nbformat_minor": 5
}
